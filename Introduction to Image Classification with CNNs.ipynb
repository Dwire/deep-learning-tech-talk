{
 "cells": [
  {
   "cell_type": "markdown",
   "metadata": {},
   "source": [
    "# Image Classification with Convolutional Neural Networks\n",
    "\n",
    "This lab will explore how we can use Convolutional Neural Networks (**_CNNs_**, for short) to improve our overall results for image classification. \n",
    "\n",
    "## Getting Started\n",
    "\n",
    "We'll start by importing the **_MNIST_** data set and preprocessing it, just like we did before.\n",
    "\n",
    "Run the cells below to import and preprocess the data.  Note that this time, we do **_not_** rehshape our data from matrices to vectors. This time, we want to leave images in matrix format!"
   ]
  },
  {
   "cell_type": "code",
   "execution_count": 1,
   "metadata": {},
   "outputs": [
    {
     "name": "stderr",
     "output_type": "stream",
     "text": [
      "Using TensorFlow backend.\n"
     ]
    }
   ],
   "source": [
    "import keras\n",
    "from keras.datasets import mnist\n",
    "import numpy as np\n",
    "import matplotlib.pyplot as plt\n",
    "%matplotlib inline"
   ]
  },
  {
   "cell_type": "code",
   "execution_count": 2,
   "metadata": {},
   "outputs": [],
   "source": [
    "(X_train, y_train), (X_test, y_test) = mnist.load_data()\n",
    "img_rows = 28\n",
    "img_cols = 28\n",
    "X_train = X_train.reshape(60000, img_rows, img_cols, 1)\n",
    "X_test = X_test.reshape(10000, img_rows, img_cols, 1)"
   ]
  },
  {
   "cell_type": "code",
   "execution_count": 3,
   "metadata": {},
   "outputs": [],
   "source": [
    "X_train = np.divide(X_train, 255.)\n",
    "X_test = np.divide(X_test, 255.)"
   ]
  },
  {
   "cell_type": "code",
   "execution_count": 4,
   "metadata": {},
   "outputs": [],
   "source": [
    "y_train = keras.utils.to_categorical(y_train, 10)\n",
    "y_test = keras.utils.to_categorical(y_test, 10)"
   ]
  },
  {
   "cell_type": "markdown",
   "metadata": {},
   "source": [
    "Note that unlike the last notebook, we did not reshape our data into a vector.  Since we didn't, we need to make use of numpy's `.divide()` method in order to divide every number inside the matrix by 255.\n",
    "\n",
    "## What is a Convolution?\n",
    "\n",
    "A **_Convolution_** is when a filter is applied across every possible section of an image matrix in order to create a **_Feature Map_**.  Examine the diagram below to see if you can figure out exactly how this feature map is constructed.  \n",
    "\n",
    "<img src='cnn_diagram.gif'>\n",
    "\n",
    "Convolutional Neural Networks learn important image features, and pass them along as their output to the next layer. \n",
    "\n",
    "The typical structure of a CNN is:\n",
    "\n",
    "<center>**_Convolutional Layer_** -> **_ReLU Activation_** -> **_MaxPooling Layer_**</center>\n",
    "\n",
    "The **_Convolutional Layer_** learns a feature map for every **_filter_** the layer contains.  These filters are learned, just like the **_weights_** in the model!\n",
    "\n",
    "The **_ReLU_** activation function turns any negative value to 0. \n",
    "\n",
    "<img src='relu-activation-function.png'>\n",
    "\n",
    "The **_MaxPooling Layer_** reduces dimensionality by reducing a collection of pixels down to only the highest pixel value in that pool of pixels. \n",
    "\n",
    "<img src='maxpooling_diagram.gif'>\n",
    "\n",
    "\n",
    "By combining these elements, a Convolutional Neural Network is quickly reduce dimensionality while still learning the important features that help it make correct classifications. \n",
    "\n",
    "## Building Our First CNN\n",
    "\n",
    "Run the cell below to create a basic Convolutional Neural Network to classify the MNIST data set.  "
   ]
  },
  {
   "cell_type": "code",
   "execution_count": 5,
   "metadata": {},
   "outputs": [],
   "source": [
    "from keras.models import Sequential\n",
    "from keras.layers import Conv2D, MaxPooling2D, Flatten, Dense"
   ]
  },
  {
   "cell_type": "markdown",
   "metadata": {},
   "source": [
    "## Structuring Our CNN\n",
    "\n",
    "CNN models can usually be broken into 2 distinct sections:\n",
    "\n",
    "* The **_Convolutional_** section, which uses filters to convolve feature maps with filters and reduce dimensionality with MaxPooling layers.\n",
    "* The **_Feed Forward_** section, which contains 1 or more `Dense` layers that feed into an output layer.\n",
    "\n",
    "Note that these sections except inputs that have fundamentally different shapes--`Conv2D` layers expect 2-dimensional matrices, while `Dense` layers expect 1-dimensional vectors. Thus, when moving from our Convolutional Section to our Feed-Forward section, we must first pass our data through a `Flatten()` layer, which just reshapes our data by flattening it into a 1D vector.  \n",
    "\n",
    "Run the cell below to construct a CNN for classifying handwritten digits from the MNIST data set.  "
   ]
  },
  {
   "cell_type": "code",
   "execution_count": 6,
   "metadata": {},
   "outputs": [],
   "source": [
    "model = Sequential()\n",
    "model.add(Conv2D(32, (3, 3), strides=(1, 1), padding='valid', activation='relu', input_shape=(28,28, 1)))\n",
    "model.add(MaxPooling2D(pool_size=(2,2)))\n",
    "model.add(Conv2D(32, (3, 3), strides=(1, 1), padding='valid', activation='relu'))\n",
    "model.add(MaxPooling2D(pool_size=(2,2)))\n",
    "model.add(Flatten())\n",
    "model.add(Dense(100, activation='relu'))\n",
    "model.add(Dense(10, activation='softmax'))"
   ]
  },
  {
   "cell_type": "markdown",
   "metadata": {},
   "source": [
    "Let's take a look at a summary of the model. "
   ]
  },
  {
   "cell_type": "code",
   "execution_count": 12,
   "metadata": {},
   "outputs": [
    {
     "name": "stdout",
     "output_type": "stream",
     "text": [
      "_________________________________________________________________\n",
      "Layer (type)                 Output Shape              Param #   \n",
      "=================================================================\n",
      "conv2d_1 (Conv2D)            (None, 26, 26, 32)        320       \n",
      "_________________________________________________________________\n",
      "max_pooling2d_1 (MaxPooling2 (None, 13, 13, 32)        0         \n",
      "_________________________________________________________________\n",
      "conv2d_2 (Conv2D)            (None, 11, 11, 32)        9248      \n",
      "_________________________________________________________________\n",
      "max_pooling2d_2 (MaxPooling2 (None, 5, 5, 32)          0         \n",
      "_________________________________________________________________\n",
      "flatten_1 (Flatten)          (None, 800)               0         \n",
      "_________________________________________________________________\n",
      "dense_1 (Dense)              (None, 100)               80100     \n",
      "_________________________________________________________________\n",
      "dense_2 (Dense)              (None, 10)                1010      \n",
      "=================================================================\n",
      "Total params: 90,678\n",
      "Trainable params: 90,678\n",
      "Non-trainable params: 0\n",
      "_________________________________________________________________\n"
     ]
    }
   ],
   "source": [
    "model.summary()"
   ]
  },
  {
   "cell_type": "markdown",
   "metadata": {},
   "source": [
    "Note that this model has less than half of the trainable parameters of the Feed-Forward Neural Network we constructed in the previous notebook.  However, we'll see that this CNN will both outscore the previous model, and also take much longer to train. \n",
    "\n",
    "Run the cells below to compile and then fit the model.  "
   ]
  },
  {
   "cell_type": "code",
   "execution_count": 7,
   "metadata": {},
   "outputs": [],
   "source": [
    "model.compile(loss='categorical_crossentropy', optimizer='adam',  metrics=['accuracy'])"
   ]
  },
  {
   "cell_type": "code",
   "execution_count": 8,
   "metadata": {},
   "outputs": [
    {
     "name": "stdout",
     "output_type": "stream",
     "text": [
      "Train on 60000 samples, validate on 10000 samples\n",
      "Epoch 1/10\n",
      "60000/60000 [==============================] - 27s 442us/step - loss: 0.1492 - acc: 0.9540 - val_loss: 0.0443 - val_acc: 0.9862\n",
      "Epoch 2/10\n",
      "60000/60000 [==============================] - 27s 446us/step - loss: 0.0458 - acc: 0.9857 - val_loss: 0.0343 - val_acc: 0.9890\n",
      "Epoch 3/10\n",
      "60000/60000 [==============================] - 27s 443us/step - loss: 0.0326 - acc: 0.9901 - val_loss: 0.0409 - val_acc: 0.9866\n",
      "Epoch 4/10\n",
      "60000/60000 [==============================] - 27s 445us/step - loss: 0.0247 - acc: 0.9924 - val_loss: 0.0342 - val_acc: 0.9890\n",
      "Epoch 5/10\n",
      "60000/60000 [==============================] - 27s 446us/step - loss: 0.0188 - acc: 0.9942 - val_loss: 0.0254 - val_acc: 0.9919\n",
      "Epoch 6/10\n",
      "60000/60000 [==============================] - 27s 443us/step - loss: 0.0154 - acc: 0.9949 - val_loss: 0.0331 - val_acc: 0.9895\n",
      "Epoch 7/10\n",
      "60000/60000 [==============================] - 27s 444us/step - loss: 0.0126 - acc: 0.9961 - val_loss: 0.0273 - val_acc: 0.9917\n",
      "Epoch 8/10\n",
      "60000/60000 [==============================] - 27s 443us/step - loss: 0.0098 - acc: 0.9968 - val_loss: 0.0351 - val_acc: 0.9892\n",
      "Epoch 9/10\n",
      "60000/60000 [==============================] - 27s 455us/step - loss: 0.0081 - acc: 0.9974 - val_loss: 0.0470 - val_acc: 0.9875\n",
      "Epoch 10/10\n",
      "60000/60000 [==============================] - 27s 452us/step - loss: 0.0077 - acc: 0.9975 - val_loss: 0.0366 - val_acc: 0.9913\n"
     ]
    }
   ],
   "source": [
    "results = model.fit(X_train, y_train, epochs=10, batch_size=32, verbose=1, validation_data=(X_test, y_test))"
   ]
  },
  {
   "cell_type": "markdown",
   "metadata": {},
   "source": [
    "Let's visualize our results, as we did before.  Run the cells below to plot the model results at each epoch so we can examine how it did. "
   ]
  },
  {
   "cell_type": "code",
   "execution_count": 9,
   "metadata": {},
   "outputs": [],
   "source": [
    "history = results.history"
   ]
  },
  {
   "cell_type": "code",
   "execution_count": 10,
   "metadata": {},
   "outputs": [
    {
     "data": {
      "image/png": "[encoded data removed]",
      "text/plain": [
       "<matplotlib.figure.Figure at 0x131ea99b0>"
      ]
     },
     "metadata": {},
     "output_type": "display_data"
    },
    {
     "data": {
      "image/png": "[encoded data removed]",
      "text/plain": [
       "<matplotlib.figure.Figure at 0x131f1a630>"
      ]
     },
     "metadata": {},
     "output_type": "display_data"
    }
   ],
   "source": [
    "history = results.history\n",
    "plt.figure()\n",
    "plt.plot(history['acc'])\n",
    "plt.plot(history['val_acc'])\n",
    "\n",
    "plt.legend([\"Accuracy\", \"Validation Accuracy\"])\n",
    "plt.title(\"Accuracy vs. Validation Accuracy\")\n",
    "plt.xlabel('Epoch')\n",
    "plt.ylabel('Accuracy %')\n",
    "plt.show()\n",
    "\n",
    "\n",
    "plt.figure()\n",
    "plt.plot(history['loss'])\n",
    "plt.plot(history['val_loss'])\n",
    "\n",
    "plt.legend([\"Loss\", \"Validation Loss\"])\n",
    "plt.title(\"Loss vs. Validation Loss\")\n",
    "plt.xlabel('Epoch')\n",
    "plt.ylabel('Loss')\n",
    "plt.show()"
   ]
  },
  {
   "cell_type": "markdown",
   "metadata": {},
   "source": [
    "## Conclusion\n",
    "\n",
    "When it comes to Image Classification, nothing comes even remotely close competely with Convolutional Neural Networks.  In just a few short lines of code in the lab, we built a model that was able classify handwritten digits with over 99% accuracy!"
   ]
  }
 ],
 "metadata": {
  "kernelspec": {
   "display_name": "Python 3",
   "language": "python",
   "name": "python3"
  },
  "language_info": {
   "codemirror_mode": {
    "name": "ipython",
    "version": 3
   },
   "file_extension": ".py",
   "mimetype": "text/x-python",
   "name": "python",
   "nbconvert_exporter": "python",
   "pygments_lexer": "ipython3",
   "version": "3.6.4"
  }
 },
 "nbformat": 4,
 "nbformat_minor": 2
}
